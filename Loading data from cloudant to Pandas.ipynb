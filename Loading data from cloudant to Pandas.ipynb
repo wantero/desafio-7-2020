{
 "cells": [
  {
   "cell_type": "code",
   "execution_count": 1,
   "metadata": {},
   "outputs": [
    {
     "name": "stdout",
     "output_type": "stream",
     "text": [
      "Requirement already satisfied: cloudant in /usr/local/lib/python3.6/dist-packages (2.14.0)\n",
      "Requirement already satisfied: pixiedust in /usr/local/lib/python3.6/dist-packages (1.1.18)\n",
      "Requirement already satisfied: requests<3.0.0,>=2.7.0 in /usr/local/lib/python3.6/dist-packages (from cloudant) (2.24.0)\n",
      "Requirement already satisfied: geojson in /usr/local/lib/python3.6/dist-packages (from pixiedust) (2.5.0)\n",
      "Requirement already satisfied: astunparse in /usr/local/lib/python3.6/dist-packages (from pixiedust) (1.6.3)\n",
      "Requirement already satisfied: markdown in /usr/local/lib/python3.6/dist-packages (from pixiedust) (3.2.2)\n",
      "Requirement already satisfied: mpld3 in /usr/local/lib/python3.6/dist-packages (from pixiedust) (0.5.1)\n",
      "Requirement already satisfied: colour in /usr/local/lib/python3.6/dist-packages (from pixiedust) (0.1.5)\n",
      "Requirement already satisfied: lxml in /usr/local/lib/python3.6/dist-packages (from pixiedust) (4.5.2)\n",
      "Requirement already satisfied: certifi>=2017.4.17 in /usr/local/lib/python3.6/dist-packages (from requests<3.0.0,>=2.7.0->cloudant) (2020.6.20)\n",
      "Requirement already satisfied: idna<3,>=2.5 in /usr/lib/python3/dist-packages (from requests<3.0.0,>=2.7.0->cloudant) (2.6)\n",
      "Requirement already satisfied: chardet<4,>=3.0.2 in /usr/local/lib/python3.6/dist-packages (from requests<3.0.0,>=2.7.0->cloudant) (3.0.4)\n",
      "Requirement already satisfied: urllib3!=1.25.0,!=1.25.1,<1.26,>=1.21.1 in /usr/local/lib/python3.6/dist-packages (from requests<3.0.0,>=2.7.0->cloudant) (1.25.10)\n",
      "Requirement already satisfied: wheel<1.0,>=0.23.0 in /usr/lib/python3/dist-packages (from astunparse->pixiedust) (0.30.0)\n",
      "Requirement already satisfied: six<2.0,>=1.6.1 in /usr/lib/python3/dist-packages (from astunparse->pixiedust) (1.11.0)\n",
      "Requirement already satisfied: importlib-metadata; python_version < \"3.8\" in /usr/local/lib/python3.6/dist-packages (from markdown->pixiedust) (1.7.0)\n",
      "Requirement already satisfied: jinja2 in /usr/local/lib/python3.6/dist-packages (from mpld3->pixiedust) (2.11.2)\n",
      "Requirement already satisfied: matplotlib in /usr/local/lib/python3.6/dist-packages (from mpld3->pixiedust) (3.3.1)\n",
      "Requirement already satisfied: zipp>=0.5 in /usr/local/lib/python3.6/dist-packages (from importlib-metadata; python_version < \"3.8\"->markdown->pixiedust) (3.1.0)\n",
      "Requirement already satisfied: MarkupSafe>=0.23 in /usr/local/lib/python3.6/dist-packages (from jinja2->mpld3->pixiedust) (1.1.1)\n",
      "Requirement already satisfied: numpy>=1.15 in /usr/local/lib/python3.6/dist-packages (from matplotlib->mpld3->pixiedust) (1.19.1)\n",
      "Requirement already satisfied: cycler>=0.10 in /usr/local/lib/python3.6/dist-packages (from matplotlib->mpld3->pixiedust) (0.10.0)\n",
      "Requirement already satisfied: pyparsing!=2.0.4,!=2.1.2,!=2.1.6,>=2.0.3 in /usr/local/lib/python3.6/dist-packages (from matplotlib->mpld3->pixiedust) (2.4.7)\n",
      "Requirement already satisfied: pillow>=6.2.0 in /usr/local/lib/python3.6/dist-packages (from matplotlib->mpld3->pixiedust) (7.2.0)\n",
      "Requirement already satisfied: kiwisolver>=1.0.1 in /usr/local/lib/python3.6/dist-packages (from matplotlib->mpld3->pixiedust) (1.2.0)\n",
      "Requirement already satisfied: python-dateutil>=2.1 in /usr/local/lib/python3.6/dist-packages (from matplotlib->mpld3->pixiedust) (2.8.1)\n",
      "\u001b[33mWARNING: You are using pip version 20.2.2; however, version 20.2.3 is available.\n",
      "You should consider upgrading via the '/usr/bin/python3 -m pip install --upgrade pip' command.\u001b[0m\n"
     ]
    }
   ],
   "source": [
    "!pip install cloudant pixiedust"
   ]
  },
  {
   "cell_type": "code",
   "execution_count": 2,
   "metadata": {},
   "outputs": [],
   "source": [
    "from cloudant import Cloudant\n",
    "# PEGAR AS INFROMAÇÕES ABAIXO NA ABA CREDENTIALS DO SERVIÇO DE CLOUDANT NA IBM CLOUD\n",
    "u = 'd757a85a-851f-40a4-bb7a-7ea0468372f5-bluemix'\n",
    "p = '9dce94916659e9f5397b906a3cf87543c8b38c2b154986b41ace5db804609090'\n",
    "a = 'd757a85a-851f-40a4-bb7a-7ea0468372f5-bluemix' # SIM, O ENDPOINT CIRADO PARA O SEU CLOUD É O MESMO QUE O USUÁRIO :-)\n",
    "client = Cloudant(u, p, account=a, connect=True, auto_renew=True)"
   ]
  },
  {
   "cell_type": "code",
   "execution_count": 3,
   "metadata": {},
   "outputs": [],
   "source": [
    "\n",
    "db = client['tnt-iot'] # NOME DO DB CRIADO NO CLOUDANT"
   ]
  },
  {
   "cell_type": "code",
   "execution_count": 4,
   "metadata": {},
   "outputs": [
    {
     "data": {
      "text/plain": [
       "list"
      ]
     },
     "execution_count": 4,
     "metadata": {},
     "output_type": "execute_result"
    }
   ],
   "source": [
    "response = db.all_docs(limit=15000, include_docs= True)\n",
    "\n",
    "# put document bodies into an array\n",
    "docs = []\n",
    "for r in response['rows']:\n",
    "    docs.append(r['doc']) # CASO TENHA USADO O NODE-RED E GRAVADO TODO O MSG USE: docs.append(r['doc']['payload'])\n",
    "type(docs)"
   ]
  },
  {
   "cell_type": "code",
   "execution_count": 6,
   "metadata": {
    "pixiedust": {
     "displayParams": {
      "brunelMapType": "Heat Map",
      "chartsize": "97",
      "coloropacity": "65",
      "handlerId": "mapView",
      "keyFields": "LAT,LONG",
      "mapboxtoken": "pk.eyJ1IjoibWFwYm94IiwiYSI6ImNpejY4M29iazA2Z2gycXA4N2pmbDZmangifQ.-g_vE53SD2WrJ6tFX7QHmA",
      "numbins": "16",
      "rendererId": "mapbox"
     }
    }
   },
   "outputs": [
    {
     "data": {
      "text/html": [
       "<div>\n",
       "<style scoped>\n",
       "    .dataframe tbody tr th:only-of-type {\n",
       "        vertical-align: middle;\n",
       "    }\n",
       "\n",
       "    .dataframe tbody tr th {\n",
       "        vertical-align: top;\n",
       "    }\n",
       "\n",
       "    .dataframe thead th {\n",
       "        text-align: right;\n",
       "    }\n",
       "</style>\n",
       "<table border=\"1\" class=\"dataframe\">\n",
       "  <thead>\n",
       "    <tr style=\"text-align: right;\">\n",
       "      <th></th>\n",
       "      <th>_id</th>\n",
       "      <th>_rev</th>\n",
       "      <th>Tempo</th>\n",
       "      <th>Estação</th>\n",
       "      <th>LAT</th>\n",
       "      <th>LONG</th>\n",
       "      <th>Movimentação</th>\n",
       "      <th>Original_473</th>\n",
       "      <th>Original_269</th>\n",
       "      <th>Zero</th>\n",
       "      <th>Maçã-Verde</th>\n",
       "      <th>Tangerina</th>\n",
       "      <th>Citrus</th>\n",
       "      <th>Açaí-Guaraná</th>\n",
       "      <th>Pêssego</th>\n",
       "      <th>TARGET</th>\n",
       "      <th>row</th>\n",
       "    </tr>\n",
       "  </thead>\n",
       "  <tbody>\n",
       "    <tr>\n",
       "      <th>0</th>\n",
       "      <td>025bb88e8d9a17bbc651c880cf0a944c</td>\n",
       "      <td>1-8b458d6b02a729edf9a155c4d77518fe</td>\n",
       "      <td>2019-3-17</td>\n",
       "      <td>Faria Lima</td>\n",
       "      <td>-23.5675</td>\n",
       "      <td>-46.6929</td>\n",
       "      <td>53130</td>\n",
       "      <td>25</td>\n",
       "      <td>19</td>\n",
       "      <td>31</td>\n",
       "      <td>3</td>\n",
       "      <td>21</td>\n",
       "      <td>30</td>\n",
       "      <td>2</td>\n",
       "      <td>35</td>\n",
       "      <td>NORMAL</td>\n",
       "      <td>8357</td>\n",
       "    </tr>\n",
       "    <tr>\n",
       "      <th>1</th>\n",
       "      <td>025bb88e8d9a17bbc651c880cf0bd183</td>\n",
       "      <td>1-61b7c973865a9f05ab1f222ddb5f8986</td>\n",
       "      <td>2018-5-21</td>\n",
       "      <td>Pinheiros</td>\n",
       "      <td>-23.5664</td>\n",
       "      <td>-46.7030</td>\n",
       "      <td>77146</td>\n",
       "      <td>86</td>\n",
       "      <td>6</td>\n",
       "      <td>16</td>\n",
       "      <td>23</td>\n",
       "      <td>24</td>\n",
       "      <td>27</td>\n",
       "      <td>30</td>\n",
       "      <td>20</td>\n",
       "      <td>REABASTECER</td>\n",
       "      <td>8781</td>\n",
       "    </tr>\n",
       "    <tr>\n",
       "      <th>2</th>\n",
       "      <td>025bb88e8d9a17bbc651c880cf189e00</td>\n",
       "      <td>1-9290841d825f224ef913e63a82c80d44</td>\n",
       "      <td>2019-10-5</td>\n",
       "      <td>Faria Lima</td>\n",
       "      <td>-23.5675</td>\n",
       "      <td>-46.6929</td>\n",
       "      <td>54136</td>\n",
       "      <td>34</td>\n",
       "      <td>38</td>\n",
       "      <td>12</td>\n",
       "      <td>26</td>\n",
       "      <td>38</td>\n",
       "      <td>28</td>\n",
       "      <td>16</td>\n",
       "      <td>41</td>\n",
       "      <td>NORMAL</td>\n",
       "      <td>8555</td>\n",
       "    </tr>\n",
       "    <tr>\n",
       "      <th>3</th>\n",
       "      <td>025bb88e8d9a17bbc651c880cf1a85bd</td>\n",
       "      <td>1-272411766b8a63ae0820e71a0272b5d6</td>\n",
       "      <td>2019-10-30</td>\n",
       "      <td>Faria Lima</td>\n",
       "      <td>-23.5675</td>\n",
       "      <td>-46.6929</td>\n",
       "      <td>54694</td>\n",
       "      <td>77</td>\n",
       "      <td>3</td>\n",
       "      <td>40</td>\n",
       "      <td>33</td>\n",
       "      <td>23</td>\n",
       "      <td>6</td>\n",
       "      <td>43</td>\n",
       "      <td>24</td>\n",
       "      <td>REABASTECER</td>\n",
       "      <td>8580</td>\n",
       "    </tr>\n",
       "    <tr>\n",
       "      <th>4</th>\n",
       "      <td>025bb88e8d9a17bbc651c880cf281336</td>\n",
       "      <td>1-960673b550267719995816e4528fe981</td>\n",
       "      <td>2019-7-7</td>\n",
       "      <td>Pinheiros</td>\n",
       "      <td>-23.5664</td>\n",
       "      <td>-46.7030</td>\n",
       "      <td>79190</td>\n",
       "      <td>66</td>\n",
       "      <td>55</td>\n",
       "      <td>46</td>\n",
       "      <td>5</td>\n",
       "      <td>6</td>\n",
       "      <td>7</td>\n",
       "      <td>13</td>\n",
       "      <td>13</td>\n",
       "      <td>REABASTECER</td>\n",
       "      <td>9187</td>\n",
       "    </tr>\n",
       "  </tbody>\n",
       "</table>\n",
       "</div>"
      ],
      "text/plain": [
       "                                _id                                _rev  \\\n",
       "0  025bb88e8d9a17bbc651c880cf0a944c  1-8b458d6b02a729edf9a155c4d77518fe   \n",
       "1  025bb88e8d9a17bbc651c880cf0bd183  1-61b7c973865a9f05ab1f222ddb5f8986   \n",
       "2  025bb88e8d9a17bbc651c880cf189e00  1-9290841d825f224ef913e63a82c80d44   \n",
       "3  025bb88e8d9a17bbc651c880cf1a85bd  1-272411766b8a63ae0820e71a0272b5d6   \n",
       "4  025bb88e8d9a17bbc651c880cf281336  1-960673b550267719995816e4528fe981   \n",
       "\n",
       "        Tempo     Estação      LAT     LONG Movimentação Original_473  \\\n",
       "0   2019-3-17  Faria Lima -23.5675 -46.6929        53130           25   \n",
       "1   2018-5-21   Pinheiros -23.5664 -46.7030        77146           86   \n",
       "2   2019-10-5  Faria Lima -23.5675 -46.6929        54136           34   \n",
       "3  2019-10-30  Faria Lima -23.5675 -46.6929        54694           77   \n",
       "4    2019-7-7   Pinheiros -23.5664 -46.7030        79190           66   \n",
       "\n",
       "  Original_269 Zero Maçã-Verde Tangerina Citrus Açaí-Guaraná Pêssego  \\\n",
       "0           19   31          3        21     30            2      35   \n",
       "1            6   16         23        24     27           30      20   \n",
       "2           38   12         26        38     28           16      41   \n",
       "3            3   40         33        23      6           43      24   \n",
       "4           55   46          5         6      7           13      13   \n",
       "\n",
       "        TARGET   row  \n",
       "0       NORMAL  8357  \n",
       "1  REABASTECER  8781  \n",
       "2       NORMAL  8555  \n",
       "3  REABASTECER  8580  \n",
       "4  REABASTECER  9187  "
      ]
     },
     "execution_count": 6,
     "metadata": {},
     "output_type": "execute_result"
    }
   ],
   "source": [
    "# create a Pandas dataframe containing the data\n",
    "import pandas as pd\n",
    "df = pd.DataFrame(data=docs)\n",
    "\n",
    "df[\"LAT\"] = df[\"LAT\"].astype(float)\n",
    "df[\"LONG\"] = df[\"LONG\"].astype(float)\n",
    "\n",
    "# df.to_csv('tnt-iot.csv')\n",
    "\n",
    "df.head()"
   ]
  },
  {
   "cell_type": "code",
   "execution_count": null,
   "metadata": {
    "pixiedust": {
     "displayParams": {
      "colorrampname": "Light to Dark Red",
      "handlerId": "mapView",
      "keyFields": "LONG,LAT",
      "kind": "simple-cluster",
      "mapboxtoken": "pk.eyJ1IjoibWFwYm94IiwiYSI6ImNpejY4M29iazA2Z2gycXA4N2pmbDZmangifQ.-g_vE53SD2WrJ6tFX7QHmA",
      "valueFields": "Estação"
     }
    }
   },
   "outputs": [],
   "source": [
    "import pixiedust\n",
    "display(df)"
   ]
  },
  {
   "cell_type": "code",
   "execution_count": null,
   "metadata": {},
   "outputs": [],
   "source": []
  }
 ],
 "metadata": {
  "kernelspec": {
   "display_name": "Python 3",
   "language": "python",
   "name": "python3"
  },
  "language_info": {
   "codemirror_mode": {
    "name": "ipython",
    "version": 3
   },
   "file_extension": ".py",
   "mimetype": "text/x-python",
   "name": "python",
   "nbconvert_exporter": "python",
   "pygments_lexer": "ipython3",
   "version": "3.6.9"
  }
 },
 "nbformat": 4,
 "nbformat_minor": 1
}
